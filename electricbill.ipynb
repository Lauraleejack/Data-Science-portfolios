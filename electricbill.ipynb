{
  "nbformat": 4,
  "nbformat_minor": 0,
  "metadata": {
    "colab": {
      "provenance": [],
      "authorship_tag": "ABX9TyPAPm77hZPjnk+BgVAhqxMG",
      "include_colab_link": true
    },
    "kernelspec": {
      "name": "python3",
      "display_name": "Python 3"
    },
    "language_info": {
      "name": "python"
    }
  },
  "cells": [
    {
      "cell_type": "markdown",
      "metadata": {
        "id": "view-in-github",
        "colab_type": "text"
      },
      "source": [
        "<a href=\"https://colab.research.google.com/github/Lauraleejack/Data-Science-portfolios/blob/main/electricbill.ipynb\" target=\"_parent\"><img src=\"https://colab.research.google.com/assets/colab-badge.svg\" alt=\"Open In Colab\"/></a>"
      ]
    },
    {
      "cell_type": "code",
      "execution_count": 1,
      "metadata": {
        "colab": {
          "base_uri": "https://localhost:8080/"
        },
        "id": "JmTwG8xVsV9-",
        "outputId": "395e5a9e-aab3-4c0d-a0fa-2c9719f44969"
      },
      "outputs": [
        {
          "output_type": "stream",
          "name": "stdout",
          "text": [
            "3500\n"
          ]
        }
      ],
      "source": [
        "# Python3 implementation to calculate the\n",
        "# electricity bill\n",
        "\n",
        "# Function to calculate the\n",
        "# electricity bill\n",
        "def calculateBill(units):\n",
        "\n",
        "\t# Condition to find the charges\n",
        "\t# bar in which the units consumed\n",
        "\t# is fall\n",
        "\tif (units <= 100):\n",
        "\n",
        "\t\treturn units * 10;\n",
        "\n",
        "\telif (units <= 200):\n",
        "\n",
        "\t\treturn ((100 * 10) +\n",
        "\t\t\t\t(units - 100) * 15);\n",
        "\n",
        "\telif (units <= 300):\n",
        "\n",
        "\t\treturn ((100 * 10) +\n",
        "\t\t\t\t(100 * 15) +\n",
        "\t\t\t\t(units - 200) * 20);\n",
        "\n",
        "\telif (units > 300):\n",
        "\n",
        "\t\treturn ((100 * 10) +\n",
        "\t\t\t\t(100 * 15) +\n",
        "\t\t\t\t(100 * 20) +\n",
        "\t\t\t\t(units - 300) * 25);\n",
        "\n",
        "\treturn 0;\n",
        "\n",
        "# Driver Code\n",
        "units = 250;\n",
        "print(calculateBill(units));\n"
      ]
    }
  ]
}
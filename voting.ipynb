{
  "nbformat": 4,
  "nbformat_minor": 0,
  "metadata": {
    "colab": {
      "provenance": [],
      "authorship_tag": "ABX9TyOzh48fIB85nSELEJZKN28O",
      "include_colab_link": true
    },
    "kernelspec": {
      "name": "python3",
      "display_name": "Python 3"
    },
    "language_info": {
      "name": "python"
    }
  },
  "cells": [
    {
      "cell_type": "markdown",
      "metadata": {
        "id": "view-in-github",
        "colab_type": "text"
      },
      "source": [
        "<a href=\"https://colab.research.google.com/github/Lauraleejack/Data-Science-portfolios/blob/main/voting.ipynb\" target=\"_parent\"><img src=\"https://colab.research.google.com/assets/colab-badge.svg\" alt=\"Open In Colab\"/></a>"
      ]
    },
    {
      "cell_type": "code",
      "execution_count": null,
      "metadata": {
        "colab": {
          "base_uri": "https://localhost:8080/",
          "height": 332
        },
        "id": "4PhF2ZfHaUqj",
        "outputId": "3f18de1b-0990-4a45-a7c9-724aed1ba3b9"
      },
      "outputs": [
        {
          "name": "stdout",
          "output_type": "stream",
          "text": [
            "Enter your age: 20\n",
            "Person is allowed to vote\n",
            "To continue, press 'Y'. To exit, press another key: y\n",
            "Enter your age: 30\n",
            "Person is allowed to vote\n",
            "To continue, press 'Y'. To exit, press another key: Y\n",
            "Enter your age: j\n"
          ]
        },
        {
          "output_type": "error",
          "ename": "ValueError",
          "evalue": "invalid literal for int() with base 10: 'j'",
          "traceback": [
            "\u001b[0;31m---------------------------------------------------------------------------\u001b[0m",
            "\u001b[0;31mValueError\u001b[0m                                Traceback (most recent call last)",
            "\u001b[0;32m<ipython-input-1-f075251f74f0>\u001b[0m in \u001b[0;36m<cell line: 1>\u001b[0;34m()\u001b[0m\n\u001b[1;32m      1\u001b[0m \u001b[0;32mwhile\u001b[0m \u001b[0;32mTrue\u001b[0m\u001b[0;34m:\u001b[0m\u001b[0;34m\u001b[0m\u001b[0;34m\u001b[0m\u001b[0m\n\u001b[1;32m      2\u001b[0m         \u001b[0;31m# Get user input for age\u001b[0m\u001b[0;34m\u001b[0m\u001b[0;34m\u001b[0m\u001b[0m\n\u001b[0;32m----> 3\u001b[0;31m         \u001b[0mage\u001b[0m \u001b[0;34m=\u001b[0m \u001b[0mint\u001b[0m\u001b[0;34m(\u001b[0m\u001b[0minput\u001b[0m\u001b[0;34m(\u001b[0m\u001b[0;34m\"Enter your age: \"\u001b[0m\u001b[0;34m)\u001b[0m\u001b[0;34m)\u001b[0m\u001b[0;34m\u001b[0m\u001b[0;34m\u001b[0m\u001b[0m\n\u001b[0m\u001b[1;32m      4\u001b[0m \u001b[0;34m\u001b[0m\u001b[0m\n\u001b[1;32m      5\u001b[0m         \u001b[0;31m# Check if the person is allowed to vote based on age\u001b[0m\u001b[0;34m\u001b[0m\u001b[0;34m\u001b[0m\u001b[0m\n",
            "\u001b[0;31mValueError\u001b[0m: invalid literal for int() with base 10: 'j'"
          ]
        }
      ],
      "source": [
        "while True:\n",
        "\t# Get user input for age\n",
        "\tage = int(input(\"Enter your age: \"))\n",
        "\n",
        "\t# Check if the person is allowed to vote based on age\n",
        "\tif age >= 18:\n",
        "\t\tprint(\"Person is allowed to vote\")\n",
        "\telse:\n",
        "\t\tprint(\"Person is not allowed to vote\")\n",
        "\n",
        "\t# Ask the user if they want to continue\n",
        "\tinput_str = input(\"To continue, press 'Y'. To exit, press another key: \")\n",
        "\n",
        "\t# Convert the input to uppercase for case-insensitivity\n",
        "\tinput_char = input_str.upper()\n",
        "\n",
        "\t# Check if the user wants to continue\n",
        "\tif input_char != 'Y':\n",
        "\t\tbreak # Exit the loop if the input is not 'Y'\n",
        "\n",
        "# Print a message when the program is terminated\n",
        "print(\"Program Terminated\")\n"
      ]
    }
  ]
}
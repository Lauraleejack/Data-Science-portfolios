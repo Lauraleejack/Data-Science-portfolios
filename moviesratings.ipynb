{
  "nbformat": 4,
  "nbformat_minor": 0,
  "metadata": {
    "colab": {
      "provenance": [],
      "authorship_tag": "ABX9TyOSguGAB6Rrp8Q45KrXLApL",
      "include_colab_link": true
    },
    "kernelspec": {
      "name": "python3",
      "display_name": "Python 3"
    },
    "language_info": {
      "name": "python"
    }
  },
  "cells": [
    {
      "cell_type": "markdown",
      "metadata": {
        "id": "view-in-github",
        "colab_type": "text"
      },
      "source": [
        "<a href=\"https://colab.research.google.com/github/Lauraleejack/Data-Science-portfolios/blob/main/moviesratings.ipynb\" target=\"_parent\"><img src=\"https://colab.research.google.com/assets/colab-badge.svg\" alt=\"Open In Colab\"/></a>"
      ]
    },
    {
      "cell_type": "code",
      "execution_count": 1,
      "metadata": {
        "id": "Ebi3SYRUvRw9"
      },
      "outputs": [],
      "source": [
        "\n",
        "from bs4 import BeautifulSoup\n",
        "import requests\n",
        "import re\n",
        "import pandas as pd"
      ]
    },
    {
      "cell_type": "code",
      "source": [
        "# Downloading imdb top 250 movie's data\n",
        "url = 'http://www.imdb.com/chart/top'\n",
        "response = requests.get(url)\n",
        "soup = BeautifulSoup(response.text, \"html.parser\")"
      ],
      "metadata": {
        "id": "tVIEihZewuYW"
      },
      "execution_count": 2,
      "outputs": []
    },
    {
      "cell_type": "code",
      "source": [
        "movies = soup.select('td.titleColumn')\n",
        "crew = [a.attrs.get('title') for a in soup.select('td.titleColumn a')]\n",
        "ratings = [b.attrs.get('data-value')\n",
        "\t\tfor b in soup.select('td.posterColumn span[name=ir]')]\n"
      ],
      "metadata": {
        "id": "EqJJ8ol9w6Vo"
      },
      "execution_count": 3,
      "outputs": []
    },
    {
      "cell_type": "code",
      "source": [
        "# create a empty list for storing\n",
        "# movie information\n",
        "list = []\n",
        "\n",
        "# Iterating over movies to extract\n",
        "# each movie's details\n",
        "for index in range(0, len(movies)):\n",
        "\n",
        "\t# Separating movie into: 'place',\n",
        "\t# 'title', 'year'\n",
        "\tmovie_string = movies[index].get_text()\n",
        "\tmovie = (' '.join(movie_string.split()).replace('.', ''))\n",
        "\tmovie_title = movie[len(str(index))+1:-7]\n",
        "\tyear = re.search('\\((.*?)\\)', movie_string).group(1)\n",
        "\tplace = movie[:len(str(index))-(len(movie))]\n",
        "\tdata = {\"place\": place,\n",
        "\t\t\t\"movie_title\": movie_title,\n",
        "\t\t\t\"rating\": ratings[index],\n",
        "\t\t\t\"year\": year,\n",
        "\t\t\t\"star_cast\": crew[index],\n",
        "\t\t\t}\n",
        "\tlist.append(data)\n"
      ],
      "metadata": {
        "id": "gCJ-ZTbbxOqD"
      },
      "execution_count": 4,
      "outputs": []
    },
    {
      "cell_type": "code",
      "source": [
        "for movie in list:\n",
        "\tprint(movie['place'], '-', movie['movie_title'], '('+movie['year'] +\n",
        "\t\t') -', 'Starring:', movie['star_cast'], movie['rating'])\n"
      ],
      "metadata": {
        "id": "h5Hird8Txhef"
      },
      "execution_count": 5,
      "outputs": []
    },
    {
      "cell_type": "code",
      "source": [
        "#saving the list as dataframe\n",
        "#then converting into .csv file\n",
        "df = pd.DataFrame(list)\n",
        "df.to_csv('imdb_top_250_movies.csv',index=False)\n"
      ],
      "metadata": {
        "id": "dMBUiXXdxmW-"
      },
      "execution_count": 6,
      "outputs": []
    },
    {
      "cell_type": "code",
      "source": [
        "from bs4 import BeautifulSoup\n",
        "import requests\n",
        "import re\n",
        "import pandas as pd\n",
        "\n",
        "\n",
        "# Downloading imdb top 250 movie's data\n",
        "url = 'http://www.imdb.com/chart/top'\n",
        "response = requests.get(url)\n",
        "soup = BeautifulSoup(response.text, \"html.parser\")\n",
        "movies = soup.select('td.titleColumn')\n",
        "crew = [a.attrs.get('title') for a in soup.select('td.titleColumn a')]\n",
        "ratings = [b.attrs.get('data-value')\n",
        "\t\tfor b in soup.select('td.posterColumn span[name=ir]')]\n",
        "\n",
        "\n",
        "\n",
        "\n",
        "# create a empty list for storing\n",
        "# movie information\n",
        "list = []\n",
        "\n",
        "# Iterating over movies to extract\n",
        "# each movie's details\n",
        "for index in range(0, len(movies)):\n",
        "\n",
        "\t# Separating movie into: 'place',\n",
        "\t# 'title', 'year'\n",
        "\tmovie_string = movies[index].get_text()\n",
        "\tmovie = (' '.join(movie_string.split()).replace('.', ''))\n",
        "\tmovie_title = movie[len(str(index))+1:-7]\n",
        "\tyear = re.search('\\((.*?)\\)', movie_string).group(1)\n",
        "\tplace = movie[:len(str(index))-(len(movie))]\n",
        "\tdata = {\"place\": place,\n",
        "\t\t\t\"movie_title\": movie_title,\n",
        "\t\t\t\"rating\": ratings[index],\n",
        "\t\t\t\"year\": year,\n",
        "\t\t\t\"star_cast\": crew[index],\n",
        "\t\t\t}\n",
        "\tlist.append(data)\n",
        "\n",
        "# printing movie details with its rating.\n",
        "for movie in list:\n",
        "\tprint(movie['place'], '-', movie['movie_title'], '('+movie['year'] +\n",
        "\t\t') -', 'Starring:', movie['star_cast'], movie['rating'])\n",
        "\n",
        "\n",
        "##.......##\n",
        "df = pd.DataFrame(list)\n",
        "df.to_csv('imdb_top_250_movies.csv',index=False)\n"
      ],
      "metadata": {
        "id": "LG67uBZaxtqn"
      },
      "execution_count": 7,
      "outputs": []
    }
  ]
}
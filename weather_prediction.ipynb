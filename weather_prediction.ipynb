{
  "nbformat": 4,
  "nbformat_minor": 0,
  "metadata": {
    "colab": {
      "provenance": [],
      "authorship_tag": "ABX9TyNQH2+e3/R1rswuwygcpbZ9",
      "include_colab_link": true
    },
    "kernelspec": {
      "name": "python3",
      "display_name": "Python 3"
    },
    "language_info": {
      "name": "python"
    }
  },
  "cells": [
    {
      "cell_type": "markdown",
      "metadata": {
        "id": "view-in-github",
        "colab_type": "text"
      },
      "source": [
        "<a href=\"https://colab.research.google.com/github/Lauraleejack/Data-Science-portfolios/blob/main/weather_prediction.ipynb\" target=\"_parent\"><img src=\"https://colab.research.google.com/assets/colab-badge.svg\" alt=\"Open In Colab\"/></a>"
      ]
    },
    {
      "cell_type": "code",
      "execution_count": null,
      "metadata": {
        "colab": {
          "base_uri": "https://localhost:8080/"
        },
        "id": "lg_g317ddGvx",
        "outputId": "fc7a9c76-e427-4710-f048-8395d5a67870"
      },
      "outputs": [
        {
          "output_type": "stream",
          "name": "stdout",
          "text": [
            "Requirement already satisfied: requests in /usr/local/lib/python3.10/dist-packages (2.31.0)\n",
            "Requirement already satisfied: charset-normalizer<4,>=2 in /usr/local/lib/python3.10/dist-packages (from requests) (3.3.2)\n",
            "Requirement already satisfied: idna<4,>=2.5 in /usr/local/lib/python3.10/dist-packages (from requests) (3.7)\n",
            "Requirement already satisfied: urllib3<3,>=1.21.1 in /usr/local/lib/python3.10/dist-packages (from requests) (2.0.7)\n",
            "Requirement already satisfied: certifi>=2017.4.17 in /usr/local/lib/python3.10/dist-packages (from requests) (2024.2.2)\n"
          ]
        }
      ],
      "source": [
        "!pip install requests"
      ]
    },
    {
      "cell_type": "code",
      "source": [
        "import requests\n",
        "from bs4 import BeautifulSoup"
      ],
      "metadata": {
        "id": "K3y4MLmkgeRt"
      },
      "execution_count": null,
      "outputs": []
    },
    {
      "cell_type": "code",
      "source": [
        "#enter city\n",
        "city = \"paris\"\n",
        "#create url\n",
        "url = \"https://www.google.com/search?q=\"+\"weather\"+city\n",
        "#reqsts instance\n",
        "html = requests.get(url).content\n",
        "#get raw data\n",
        "soup = BeautifulSoup(html, 'html.parser')"
      ],
      "metadata": {
        "id": "Q8bVZQP3g5S7"
      },
      "execution_count": null,
      "outputs": []
    },
    {
      "cell_type": "code",
      "source": [
        "# get the temperature\n",
        "temp = soup.find('div', attrs={'class': 'BNeawe iBp4i AP7Wnd'}).text\n",
        "\n",
        "# this contains time and sky description\n",
        "str = soup.find('div', attrs={'class': 'BNeawe tAd8D AP7Wnd'}).text\n",
        "\n",
        "# format the data\n",
        "data = str.split('\\n')\n",
        "time = data[0]\n",
        "sky = data[1]\n"
      ],
      "metadata": {
        "id": "q3DpcvwZiYFX"
      },
      "execution_count": null,
      "outputs": []
    },
    {
      "cell_type": "code",
      "source": [
        "# list having all div tags having particular class name\n",
        "listdiv = soup.findAll('div', attrs={'class': 'BNeawe s3v9rd AP7Wnd'})\n",
        "\n",
        "# particular list with required data\n",
        "strd = listdiv[5].text\n",
        "\n",
        "# formatting the string\n",
        "pos = strd.find('Wind')\n",
        "other_data = strd[pos:]\n"
      ],
      "metadata": {
        "id": "0MU7ymGTi-sZ"
      },
      "execution_count": null,
      "outputs": []
    },
    {
      "cell_type": "code",
      "source": [
        "# printing all the data\n",
        "print(\"Temperature is\", temp)\n",
        "print(\"Time: \", time)\n",
        "print(\"Sky Description: \", sky)\n",
        "print(other_data)\n"
      ],
      "metadata": {
        "colab": {
          "base_uri": "https://localhost:8080/"
        },
        "id": "bVYb0pF8jD7K",
        "outputId": "9b291c3e-e636-465b-d6b1-511840dd8503"
      },
      "execution_count": null,
      "outputs": [
        {
          "output_type": "stream",
          "name": "stdout",
          "text": [
            "Temperature is 68°F\n",
            "Time:  Tuesday 4:51 PM\n",
            "Sky Description:  Mostly sunny\n",
            ".\n"
          ]
        }
      ]
    },
    {
      "cell_type": "code",
      "source": [
        "# Python code to display schematic weather details\n",
        "import requests\n",
        "#Sending requests to get the IP Location Information\n",
        "res = requests.get('https://ipinfo.io/')\n",
        "# Receiving the response in JSON format\n",
        "data = res.json()\n",
        "# Extracting the Location of the City from the response\n",
        "citydata = data['city']\n",
        "# Prints the Current Location\n",
        "print(citydata)\n",
        "# Passing the City name to the url\n",
        "url = 'https://wttr.in/{}'.format(citydata)\n",
        "# Getting the Weather Data of the City\n",
        "res = requests.get(url)\n",
        "# Printing the results!\n",
        "print(res.text)\n"
      ],
      "metadata": {
        "colab": {
          "base_uri": "https://localhost:8080/"
        },
        "id": "ObTfbAYwjVAz",
        "outputId": "a49500c7-d32b-4e0a-90d5-05bcfb988bc3"
      },
      "execution_count": null,
      "outputs": [
        {
          "output_type": "stream",
          "name": "stdout",
          "text": [
            "North Charleston\n",
            "Weather report: North Charleston\n",
            "\n",
            "  \u001b[38;5;226m   \\  /\u001b[0m       Partly cloudy\n",
            "  \u001b[38;5;226m _ /\"\"\u001b[38;5;250m.-.    \u001b[0m \u001b[38;5;220m+78\u001b[0m(\u001b[38;5;214m82\u001b[0m) °F\u001b[0m     \n",
            "  \u001b[38;5;226m   \\_\u001b[38;5;250m(   ).  \u001b[0m \u001b[1m↑\u001b[0m \u001b[38;5;190m6\u001b[0m mph\u001b[0m        \n",
            "  \u001b[38;5;226m   /\u001b[38;5;250m(___(__) \u001b[0m 9 mi\u001b[0m           \n",
            "                0.0 in\u001b[0m         \n",
            "                                                       ┌─────────────┐                                                       \n",
            "┌──────────────────────────────┬───────────────────────┤  Tue 07 May ├───────────────────────┬──────────────────────────────┐\n",
            "│            Morning           │             Noon      └──────┬──────┘     Evening           │             Night            │\n",
            "├──────────────────────────────┼──────────────────────────────┼──────────────────────────────┼──────────────────────────────┤\n",
            "│ \u001b[38;5;226m _`/\"\"\u001b[38;5;250m.-.    \u001b[0m Patchy rain ne…│ \u001b[38;5;226m    \\   /    \u001b[0m Sunny          │ \u001b[38;5;226m   \\  /\u001b[0m       Partly Cloudy  │ \u001b[38;5;226m    \\   /    \u001b[0m Clear          │\n",
            "│ \u001b[38;5;226m  ,\\_\u001b[38;5;250m(   ).  \u001b[0m \u001b[38;5;226m+75\u001b[0m(\u001b[38;5;220m78\u001b[0m) °F\u001b[0m     │ \u001b[38;5;226m     .-.     \u001b[0m \u001b[38;5;214m+84\u001b[0m(\u001b[38;5;208m87\u001b[0m) °F\u001b[0m     │ \u001b[38;5;226m _ /\"\"\u001b[38;5;250m.-.    \u001b[0m \u001b[38;5;214m+82\u001b[0m(\u001b[38;5;214m84\u001b[0m) °F\u001b[0m     │ \u001b[38;5;226m     .-.     \u001b[0m \u001b[38;5;226m+75\u001b[0m(\u001b[38;5;220m78\u001b[0m) °F\u001b[0m     │\n",
            "│ \u001b[38;5;226m   /\u001b[38;5;250m(___(__) \u001b[0m \u001b[1m↗\u001b[0m \u001b[38;5;226m8\u001b[0m-\u001b[38;5;220m10\u001b[0m mph\u001b[0m     │ \u001b[38;5;226m  ― (   ) ―  \u001b[0m \u001b[1m↗\u001b[0m \u001b[38;5;226m8\u001b[0m-\u001b[38;5;220m9\u001b[0m mph\u001b[0m      │ \u001b[38;5;226m   \\_\u001b[38;5;250m(   ).  \u001b[0m \u001b[1m↑\u001b[0m \u001b[38;5;220m10\u001b[0m-\u001b[38;5;214m13\u001b[0m mph\u001b[0m    │ \u001b[38;5;226m  ― (   ) ―  \u001b[0m \u001b[1m↑\u001b[0m \u001b[38;5;226m8\u001b[0m-\u001b[38;5;214m14\u001b[0m mph\u001b[0m     │\n",
            "│ \u001b[38;5;111m     ‘ ‘ ‘ ‘ \u001b[0m 6 mi\u001b[0m           │ \u001b[38;5;226m     `-’     \u001b[0m 6 mi\u001b[0m           │ \u001b[38;5;226m   /\u001b[38;5;250m(___(__) \u001b[0m 6 mi\u001b[0m           │ \u001b[38;5;226m     `-’     \u001b[0m 6 mi\u001b[0m           │\n",
            "│ \u001b[38;5;111m    ‘ ‘ ‘ ‘  \u001b[0m 0.0 in | 68%\u001b[0m   │ \u001b[38;5;226m    /   \\    \u001b[0m 0.0 in | 0%\u001b[0m    │               0.0 in | 0%\u001b[0m    │ \u001b[38;5;226m    /   \\    \u001b[0m 0.0 in | 0%\u001b[0m    │\n",
            "└──────────────────────────────┴──────────────────────────────┴──────────────────────────────┴──────────────────────────────┘\n",
            "                                                       ┌─────────────┐                                                       \n",
            "┌──────────────────────────────┬───────────────────────┤  Wed 08 May ├───────────────────────┬──────────────────────────────┐\n",
            "│            Morning           │             Noon      └──────┬──────┘     Evening           │             Night            │\n",
            "├──────────────────────────────┼──────────────────────────────┼──────────────────────────────┼──────────────────────────────┤\n",
            "│ \u001b[38;5;226m    \\   /    \u001b[0m Sunny          │ \u001b[38;5;226m    \\   /    \u001b[0m Sunny          │ \u001b[38;5;226m    \\   /    \u001b[0m Sunny          │ \u001b[38;5;226m    \\   /    \u001b[0m Clear          │\n",
            "│ \u001b[38;5;226m     .-.     \u001b[0m \u001b[38;5;220m+78\u001b[0m(\u001b[38;5;214m82\u001b[0m) °F\u001b[0m     │ \u001b[38;5;226m     .-.     \u001b[0m \u001b[38;5;208m+87\u001b[0m(\u001b[38;5;208m89\u001b[0m) °F\u001b[0m     │ \u001b[38;5;226m     .-.     \u001b[0m \u001b[38;5;214m+84\u001b[0m(\u001b[38;5;214m86\u001b[0m) °F\u001b[0m     │ \u001b[38;5;226m     .-.     \u001b[0m \u001b[38;5;220m+77\u001b[0m(\u001b[38;5;220m80\u001b[0m) °F\u001b[0m     │\n",
            "│ \u001b[38;5;226m  ― (   ) ―  \u001b[0m \u001b[1m↗\u001b[0m \u001b[38;5;226m8\u001b[0m-\u001b[38;5;220m9\u001b[0m mph\u001b[0m      │ \u001b[38;5;226m  ― (   ) ―  \u001b[0m \u001b[1m↗\u001b[0m \u001b[38;5;226m9\u001b[0m-\u001b[38;5;220m10\u001b[0m mph\u001b[0m     │ \u001b[38;5;226m  ― (   ) ―  \u001b[0m \u001b[1m↑\u001b[0m \u001b[38;5;220m11\u001b[0m-\u001b[38;5;208m14\u001b[0m mph\u001b[0m    │ \u001b[38;5;226m  ― (   ) ―  \u001b[0m \u001b[1m↑\u001b[0m \u001b[38;5;226m8\u001b[0m-\u001b[38;5;208m14\u001b[0m mph\u001b[0m     │\n",
            "│ \u001b[38;5;226m     `-’     \u001b[0m 6 mi\u001b[0m           │ \u001b[38;5;226m     `-’     \u001b[0m 6 mi\u001b[0m           │ \u001b[38;5;226m     `-’     \u001b[0m 6 mi\u001b[0m           │ \u001b[38;5;226m     `-’     \u001b[0m 6 mi\u001b[0m           │\n",
            "│ \u001b[38;5;226m    /   \\    \u001b[0m 0.0 in | 0%\u001b[0m    │ \u001b[38;5;226m    /   \\    \u001b[0m 0.0 in | 0%\u001b[0m    │ \u001b[38;5;226m    /   \\    \u001b[0m 0.0 in | 0%\u001b[0m    │ \u001b[38;5;226m    /   \\    \u001b[0m 0.0 in | 0%\u001b[0m    │\n",
            "└──────────────────────────────┴──────────────────────────────┴──────────────────────────────┴──────────────────────────────┘\n",
            "                                                       ┌─────────────┐                                                       \n",
            "┌──────────────────────────────┬───────────────────────┤  Thu 09 May ├───────────────────────┬──────────────────────────────┐\n",
            "│            Morning           │             Noon      └──────┬──────┘     Evening           │             Night            │\n",
            "├──────────────────────────────┼──────────────────────────────┼──────────────────────────────┼──────────────────────────────┤\n",
            "│ \u001b[38;5;226m    \\   /    \u001b[0m Sunny          │ \u001b[38;5;226m    \\   /    \u001b[0m Sunny          │ \u001b[38;5;226m    \\   /    \u001b[0m Sunny          │ \u001b[38;5;226m _`/\"\"\u001b[38;5;240;1m.-.    \u001b[0m Moderate or he…│\n",
            "│ \u001b[38;5;226m     .-.     \u001b[0m \u001b[38;5;220m+78\u001b[0m(\u001b[38;5;220m80\u001b[0m) °F\u001b[0m     │ \u001b[38;5;226m     .-.     \u001b[0m \u001b[38;5;208m+87\u001b[0m(\u001b[38;5;208m89\u001b[0m) °F\u001b[0m     │ \u001b[38;5;226m     .-.     \u001b[0m \u001b[38;5;214m+86\u001b[0m(\u001b[38;5;208m91\u001b[0m) °F\u001b[0m     │ \u001b[38;5;226m  ,\\_\u001b[38;5;240;1m(   ).  \u001b[0m \u001b[38;5;226m+75\u001b[0m(\u001b[38;5;220m78\u001b[0m) °F\u001b[0m     │\n",
            "│ \u001b[38;5;226m  ― (   ) ―  \u001b[0m \u001b[1m↗\u001b[0m \u001b[38;5;220m11\u001b[0m-\u001b[38;5;208m14\u001b[0m mph\u001b[0m    │ \u001b[38;5;226m  ― (   ) ―  \u001b[0m \u001b[1m↗\u001b[0m \u001b[38;5;214m13\u001b[0m-\u001b[38;5;208m15\u001b[0m mph\u001b[0m    │ \u001b[38;5;226m  ― (   ) ―  \u001b[0m \u001b[1m↗\u001b[0m \u001b[38;5;214m12\u001b[0m-\u001b[38;5;202m17\u001b[0m mph\u001b[0m    │ \u001b[38;5;226m   /\u001b[38;5;240;1m(___(__) \u001b[0m \u001b[1m↗\u001b[0m \u001b[38;5;202m18\u001b[0m-\u001b[38;5;196m32\u001b[0m mph\u001b[0m    │\n",
            "│ \u001b[38;5;226m     `-’     \u001b[0m 6 mi\u001b[0m           │ \u001b[38;5;226m     `-’     \u001b[0m 6 mi\u001b[0m           │ \u001b[38;5;226m     `-’     \u001b[0m 6 mi\u001b[0m           │ \u001b[38;5;21;1m   ‚‘‚‘‚‘‚‘  \u001b[0m 4 mi\u001b[0m           │\n",
            "│ \u001b[38;5;226m    /   \\    \u001b[0m 0.0 in | 0%\u001b[0m    │ \u001b[38;5;226m    /   \\    \u001b[0m 0.0 in | 0%\u001b[0m    │ \u001b[38;5;226m    /   \\    \u001b[0m 0.0 in | 0%\u001b[0m    │ \u001b[38;5;21;1m   ‚’‚’‚’‚’  \u001b[0m 0.1 in | 100%\u001b[0m  │\n",
            "└──────────────────────────────┴──────────────────────────────┴──────────────────────────────┴──────────────────────────────┘\n",
            "Location: North Charleston, Charleston County, South Carolina, USA [32.8546197,-79.9748103]\n",
            "\n",
            "Follow \u001b[46m\u001b[30m@igor_chubin\u001b[0m for wttr.in updates\n",
            "\n"
          ]
        }
      ]
    }
  ]
}